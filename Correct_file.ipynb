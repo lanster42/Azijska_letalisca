{
 "cells": [
  {
   "cell_type": "markdown",
   "metadata": {},
   "source": [
    "# **Analiza azijskih letališč**\n",
    "#### Projektna naloga iz analize podatkov pri predmetu Uvod v programiranje"
   ]
  },
  {
   "cell_type": "markdown",
   "metadata": {},
   "source": [
    "<div class=\"alert alert-block alert-warning\">\n",
    "<b>Pomni:</b> Ta projektna naloga naj služi le informativnim namenom\n",
    "</div>"
   ]
  },
  {
   "cell_type": "markdown",
   "metadata": {},
   "source": [
    "***"
   ]
  },
  {
   "cell_type": "markdown",
   "metadata": {},
   "source": [
    "Vsi podatke, ki jih bo ta analiza pokrivala (okvirno 11600), so bili vzeti iz spletne strani: __[ourairports.com](https://ourairports.com/continents/AS/airports.html)__ in widgeta spletne strani __[avionio.com](https://www.avionio.com)__. \n",
    "Podatke sem, s pomočjo `Acquiring_treasure.py`, shranil v csv datoteko, imenovano `Ogromna_tabela.csv`. \n",
    "\n",
    "Pred zajemom podatkov sem postavil nekaj hipotez, in vprašanj, na katere bomo skušali odgovoriti:\n",
    "> * katere države imajo največ letališč\n",
    "> * katere države imajo največ zaprtih letališč\n",
    "> * katere države imajo največ prihodov skupaj\n",
    "> * glavna (Major) letališča bodo imela največ prihodov v primerjavi z drugimi\n",
    "> * letališča z največ prihodi bodo uporabljala tudi največ letalskih družb\n",
    "> * katera letališča bodo imela največjo in najmanjšo zamudo? Hipoteza: letališča z največ prihodi bodo gradila sredino med povprečno zamudo.\n"
   ]
  },
  {
   "cell_type": "markdown",
   "metadata": {},
   "source": [
    "***"
   ]
  },
  {
   "cell_type": "markdown",
   "metadata": {},
   "source": [
    "### Priprava"
   ]
  },
  {
   "cell_type": "markdown",
   "metadata": {},
   "source": [
    "Najprej bomo uvozili knjižnico __Pandas__, s katero bomo izvedli analizo podatkov. Uvozili in prebrali bomo še datoteko s shranjenimi letališči `Ogromna_tabela.csv`. Za risanje nekaterih grafov bomo uporabili tudi knjižnico __matplotlib.pyplot__."
   ]
  },
  {
   "cell_type": "code",
   "execution_count": 11,
   "metadata": {},
   "outputs": [],
   "source": [
    "import pandas as pd\n",
    "import matplotlib.pyplot as plt\n",
    "#pd.options.display.max_rows = 21"
   ]
  },
  {
   "cell_type": "code",
   "execution_count": 14,
   "metadata": {},
   "outputs": [
    {
     "data": {
      "text/html": [
       "<div>\n",
       "<style scoped>\n",
       "    .dataframe tbody tr th:only-of-type {\n",
       "        vertical-align: middle;\n",
       "    }\n",
       "\n",
       "    .dataframe tbody tr th {\n",
       "        vertical-align: top;\n",
       "    }\n",
       "\n",
       "    .dataframe thead th {\n",
       "        text-align: right;\n",
       "    }\n",
       "</style>\n",
       "<table border=\"1\" class=\"dataframe\">\n",
       "  <thead>\n",
       "    <tr style=\"text-align: right;\">\n",
       "      <th></th>\n",
       "      <th>ime letališča</th>\n",
       "      <th>država</th>\n",
       "      <th>tip letališča</th>\n",
       "      <th>Število letov</th>\n",
       "      <th>Destinacije</th>\n",
       "      <th>Letalske družbe</th>\n",
       "      <th>Povprečna zamuda letov</th>\n",
       "    </tr>\n",
       "  </thead>\n",
       "  <tbody>\n",
       "    <tr>\n",
       "      <th>0</th>\n",
       "      <td>Dubai International Airport</td>\n",
       "      <td>United Arab Emirates</td>\n",
       "      <td>Major airport</td>\n",
       "      <td>604</td>\n",
       "      <td>['Abha', 'Accra', 'Addis Ababa', 'Ahmedabad', ...</td>\n",
       "      <td>['AJet', 'ASG Business Aviation', 'AZAL Azerba...</td>\n",
       "      <td>18 minut</td>\n",
       "    </tr>\n",
       "    <tr>\n",
       "      <th>1</th>\n",
       "      <td>Singapore Changi Airport</td>\n",
       "      <td>Singapore</td>\n",
       "      <td>Major airport</td>\n",
       "      <td>537</td>\n",
       "      <td>['Abu Dhabi', 'Adelaide', 'Ahmedabad', 'Amster...</td>\n",
       "      <td>['ASIANA AIRLINES INC.', 'AeroLogic', 'Air Chi...</td>\n",
       "      <td>18 minut</td>\n",
       "    </tr>\n",
       "    <tr>\n",
       "      <th>2</th>\n",
       "      <td>Narita International Airport</td>\n",
       "      <td>Japan</td>\n",
       "      <td>Major airport</td>\n",
       "      <td>386</td>\n",
       "      <td>['Abu Dhabi', 'Amami', 'Amsterdam', 'Anchorage...</td>\n",
       "      <td>['ASIANA AIRLINES INC.', 'Aero K', 'AeroLogic'...</td>\n",
       "      <td>19 minut</td>\n",
       "    </tr>\n",
       "    <tr>\n",
       "      <th>3</th>\n",
       "      <td>Hong Kong International Airport</td>\n",
       "      <td>Hong Kong</td>\n",
       "      <td>Major airport</td>\n",
       "      <td>544</td>\n",
       "      <td>['Abu Dhabi', 'Addis Ababa', 'Amsterdam', 'Anc...</td>\n",
       "      <td>['9 Air Co', 'ASIANA AIRLINES INC.', 'Aeroflot...</td>\n",
       "      <td>24 minut</td>\n",
       "    </tr>\n",
       "    <tr>\n",
       "      <th>4</th>\n",
       "      <td>Suvarnabhumi Airport</td>\n",
       "      <td>Thailand</td>\n",
       "      <td>Major airport</td>\n",
       "      <td>563</td>\n",
       "      <td>['Abu Dhabi', 'Addis Ababa', 'Ahmedabad', 'Amm...</td>\n",
       "      <td>['9 Air Co', 'ASIANA AIRLINES INC.', 'AeroLogi...</td>\n",
       "      <td>16 minut</td>\n",
       "    </tr>\n",
       "  </tbody>\n",
       "</table>\n",
       "</div>"
      ],
      "text/plain": [
       "                     ime letališča                država  tip letališča  \\\n",
       "0      Dubai International Airport  United Arab Emirates  Major airport   \n",
       "1         Singapore Changi Airport             Singapore  Major airport   \n",
       "2     Narita International Airport                 Japan  Major airport   \n",
       "3  Hong Kong International Airport             Hong Kong  Major airport   \n",
       "4             Suvarnabhumi Airport              Thailand  Major airport   \n",
       "\n",
       "   Število letov                                        Destinacije  \\\n",
       "0            604  ['Abha', 'Accra', 'Addis Ababa', 'Ahmedabad', ...   \n",
       "1            537  ['Abu Dhabi', 'Adelaide', 'Ahmedabad', 'Amster...   \n",
       "2            386  ['Abu Dhabi', 'Amami', 'Amsterdam', 'Anchorage...   \n",
       "3            544  ['Abu Dhabi', 'Addis Ababa', 'Amsterdam', 'Anc...   \n",
       "4            563  ['Abu Dhabi', 'Addis Ababa', 'Ahmedabad', 'Amm...   \n",
       "\n",
       "                                     Letalske družbe Povprečna zamuda letov  \n",
       "0  ['AJet', 'ASG Business Aviation', 'AZAL Azerba...               18 minut  \n",
       "1  ['ASIANA AIRLINES INC.', 'AeroLogic', 'Air Chi...               18 minut  \n",
       "2  ['ASIANA AIRLINES INC.', 'Aero K', 'AeroLogic'...               19 minut  \n",
       "3  ['9 Air Co', 'ASIANA AIRLINES INC.', 'Aeroflot...               24 minut  \n",
       "4  ['9 Air Co', 'ASIANA AIRLINES INC.', 'AeroLogi...               16 minut  "
      ]
     },
     "execution_count": 14,
     "metadata": {},
     "output_type": "execute_result"
    }
   ],
   "source": [
    "letalisca = pd.read_csv(\"CSVing/Ogromna_tabela.csv\")\n",
    "letalisca"
   ]
  },
  {
   "cell_type": "markdown",
   "metadata": {},
   "source": [
    "## Analiza podatkov"
   ]
  },
  {
   "cell_type": "markdown",
   "metadata": {},
   "source": [
    "Najprej si oglejmo "
   ]
  },
  {
   "cell_type": "code",
   "execution_count": 18,
   "metadata": {},
   "outputs": [
    {
     "data": {
      "text/html": [
       "<div>\n",
       "<style scoped>\n",
       "    .dataframe tbody tr th:only-of-type {\n",
       "        vertical-align: middle;\n",
       "    }\n",
       "\n",
       "    .dataframe tbody tr th {\n",
       "        vertical-align: top;\n",
       "    }\n",
       "\n",
       "    .dataframe thead th {\n",
       "        text-align: right;\n",
       "    }\n",
       "</style>\n",
       "<table border=\"1\" class=\"dataframe\">\n",
       "  <thead>\n",
       "    <tr style=\"text-align: right;\">\n",
       "      <th></th>\n",
       "      <th>ime letališča</th>\n",
       "    </tr>\n",
       "    <tr>\n",
       "      <th>država</th>\n",
       "      <th></th>\n",
       "    </tr>\n",
       "  </thead>\n",
       "  <tbody>\n",
       "    <tr>\n",
       "      <th>Hong Kong</th>\n",
       "      <td>Hong Kong International Airport</td>\n",
       "    </tr>\n",
       "    <tr>\n",
       "      <th>Japan</th>\n",
       "      <td>Narita International Airport</td>\n",
       "    </tr>\n",
       "    <tr>\n",
       "      <th>Singapore</th>\n",
       "      <td>Singapore Changi Airport</td>\n",
       "    </tr>\n",
       "    <tr>\n",
       "      <th>Thailand</th>\n",
       "      <td>Suvarnabhumi Airport</td>\n",
       "    </tr>\n",
       "    <tr>\n",
       "      <th>United Arab Emirates</th>\n",
       "      <td>Dubai International Airport</td>\n",
       "    </tr>\n",
       "  </tbody>\n",
       "</table>\n",
       "</div>"
      ],
      "text/plain": [
       "                                        ime letališča\n",
       "država                                               \n",
       "Hong Kong             Hong Kong International Airport\n",
       "Japan                    Narita International Airport\n",
       "Singapore                    Singapore Changi Airport\n",
       "Thailand                         Suvarnabhumi Airport\n",
       "United Arab Emirates      Dubai International Airport"
      ]
     },
     "execution_count": 18,
     "metadata": {},
     "output_type": "execute_result"
    }
   ],
   "source": [
    "po_drzavah = letalisca.groupby(\"država\").sum()[[\"ime letališča\"]]\n",
    "po_drzavah"
   ]
  }
 ],
 "metadata": {
  "kernelspec": {
   "display_name": "Python 3",
   "language": "python",
   "name": "python3"
  },
  "language_info": {
   "codemirror_mode": {
    "name": "ipython",
    "version": 3
   },
   "file_extension": ".py",
   "mimetype": "text/x-python",
   "name": "python",
   "nbconvert_exporter": "python",
   "pygments_lexer": "ipython3",
   "version": "3.12.2"
  }
 },
 "nbformat": 4,
 "nbformat_minor": 2
}
